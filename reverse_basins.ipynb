{
 "cells": [
  {
   "cell_type": "markdown",
   "metadata": {},
   "source": [
    "#  Study basins of attraction using reversed models\n",
    "\n",
    "\n",
    "In this notebook we combine [bioLQM](http://colomoto.org/biolqm) and [BoolSim](https://www.vital-it.ch/research/software/boolSim) to study the basins of attraction of qualitative models."
   ]
  },
  {
   "cell_type": "code",
   "execution_count": 1,
   "metadata": {},
   "outputs": [],
   "source": [
    "import boolsim\n",
    "import biolqm\n",
    "from colomoto_jupyter import tabulate # for display\n",
    "import itertools"
   ]
  },
  {
   "cell_type": "markdown",
   "metadata": {},
   "source": [
    "## Load and reverse the model\n",
    "\n",
    "Load the model, compute the reversed version and export both to boolsim"
   ]
  },
  {
   "cell_type": "code",
   "execution_count": 2,
   "metadata": {},
   "outputs": [],
   "source": [
    "model_name = \"calzone2010/Calzone_2010_reduced\"\n",
    "\n",
    "model = biolqm.load(f\"{model_name}.sbml\")\n",
    "reverse = biolqm.reverse(model)"
   ]
  },
  {
   "cell_type": "markdown",
   "metadata": {},
   "source": [
    "## Identify all attractors"
   ]
  },
  {
   "cell_type": "code",
   "execution_count": 3,
   "metadata": {},
   "outputs": [
    {
     "name": "stdout",
     "output_type": "stream",
     "text": [
      "CPU times: user 6.14 ms, sys: 11.7 ms, total: 17.9 ms\n",
      "Wall time: 120 ms\n"
     ]
    },
    {
     "data": {
      "text/html": [
       "<div>\n",
       "<style scoped>\n",
       "    .dataframe tbody tr th:only-of-type {\n",
       "        vertical-align: middle;\n",
       "    }\n",
       "\n",
       "    .dataframe tbody tr th {\n",
       "        vertical-align: top;\n",
       "    }\n",
       "\n",
       "    .dataframe thead th {\n",
       "        text-align: right;\n",
       "    }\n",
       "</style>\n",
       "<table border=\"1\" class=\"dataframe\">\n",
       "  <thead>\n",
       "    <tr style=\"text-align: right;\">\n",
       "      <th></th>\n",
       "      <th>apoptosome</th>\n",
       "      <th>ATP</th>\n",
       "      <th>BAX</th>\n",
       "      <th>BCL2</th>\n",
       "      <th>CASP3</th>\n",
       "      <th>CASP8</th>\n",
       "      <th>cFLIP</th>\n",
       "      <th>cIAP</th>\n",
       "      <th>Cyt_c</th>\n",
       "      <th>IKK</th>\n",
       "      <th>MOMP</th>\n",
       "      <th>MPT</th>\n",
       "      <th>NFkB</th>\n",
       "      <th>RIP1</th>\n",
       "      <th>RIP1K</th>\n",
       "      <th>RIP1ub</th>\n",
       "      <th>ROS</th>\n",
       "      <th>SMAC</th>\n",
       "      <th>XIAP</th>\n",
       "    </tr>\n",
       "  </thead>\n",
       "  <tbody>\n",
       "    <tr>\n",
       "      <th>1</th>\n",
       "      <td>0</td>\n",
       "      <td>0</td>\n",
       "      <td>1</td>\n",
       "      <td>0</td>\n",
       "      <td>0</td>\n",
       "      <td>1</td>\n",
       "      <td>0</td>\n",
       "      <td>0</td>\n",
       "      <td>1</td>\n",
       "      <td>0</td>\n",
       "      <td>1</td>\n",
       "      <td>1</td>\n",
       "      <td>0</td>\n",
       "      <td>0</td>\n",
       "      <td>0</td>\n",
       "      <td>0</td>\n",
       "      <td>1</td>\n",
       "      <td>1</td>\n",
       "      <td>0</td>\n",
       "    </tr>\n",
       "    <tr>\n",
       "      <th>2</th>\n",
       "      <td>0</td>\n",
       "      <td>1</td>\n",
       "      <td>0</td>\n",
       "      <td>1</td>\n",
       "      <td>0</td>\n",
       "      <td>0</td>\n",
       "      <td>1</td>\n",
       "      <td>1</td>\n",
       "      <td>0</td>\n",
       "      <td>1</td>\n",
       "      <td>0</td>\n",
       "      <td>0</td>\n",
       "      <td>1</td>\n",
       "      <td>1</td>\n",
       "      <td>1</td>\n",
       "      <td>1</td>\n",
       "      <td>0</td>\n",
       "      <td>0</td>\n",
       "      <td>1</td>\n",
       "    </tr>\n",
       "    <tr>\n",
       "      <th>0</th>\n",
       "      <td>1</td>\n",
       "      <td>1</td>\n",
       "      <td>1</td>\n",
       "      <td>0</td>\n",
       "      <td>1</td>\n",
       "      <td>1</td>\n",
       "      <td>0</td>\n",
       "      <td>0</td>\n",
       "      <td>1</td>\n",
       "      <td>0</td>\n",
       "      <td>1</td>\n",
       "      <td>0</td>\n",
       "      <td>0</td>\n",
       "      <td>0</td>\n",
       "      <td>0</td>\n",
       "      <td>0</td>\n",
       "      <td>0</td>\n",
       "      <td>1</td>\n",
       "      <td>0</td>\n",
       "    </tr>\n",
       "  </tbody>\n",
       "</table>\n",
       "</div>"
      ],
      "text/plain": [
       "   apoptosome  ATP  BAX  BCL2  CASP3  CASP8  cFLIP  cIAP  Cyt_c  IKK  MOMP  \\\n",
       "1           0    0    1     0      0      1      0     0      1    0     1   \n",
       "2           0    1    0     1      0      0      1     1      0    1     0   \n",
       "0           1    1    1     0      1      1      0     0      1    0     1   \n",
       "\n",
       "   MPT  NFkB  RIP1  RIP1K  RIP1ub  ROS  SMAC  XIAP  \n",
       "1    1     0     0      0       0    1     1     0  \n",
       "2    0     1     1      1       1    0     0     1  \n",
       "0    0     0     0      0       0    0     1     0  "
      ]
     },
     "execution_count": 3,
     "metadata": {},
     "output_type": "execute_result"
    }
   ],
   "source": [
    "%time attractors = boolsim.attractors(model)\n",
    "tabulate(attractors)"
   ]
  },
  {
   "cell_type": "markdown",
   "metadata": {},
   "source": [
    "## Basins of attractions\n",
    "\n",
    "Find the weak and strong basins of attraction for each identified attractor.\n",
    "* Weak basins: all states which can lead to this attractor\n",
    "* Strong basins: the subset of the weak basin which can not reach any other attractor"
   ]
  },
  {
   "cell_type": "code",
   "execution_count": 4,
   "metadata": {},
   "outputs": [
    {
     "name": "stdout",
     "output_type": "stream",
     "text": [
      "CPU times: user 42.4 ms, sys: 14.5 ms, total: 56.8 ms\n",
      "Wall time: 307 ms\n"
     ]
    }
   ],
   "source": [
    "%%time\n",
    "bsim_rev = biolqm.biolqm.save(reverse, f\"{model_name}_reversed.boolsim\")\n",
    "weaks = [ boolsim.reachable(bsim_rev, a) for a in attractors  ]"
   ]
  },
  {
   "cell_type": "code",
   "execution_count": 5,
   "metadata": {},
   "outputs": [
    {
     "name": "stdout",
     "output_type": "stream",
     "text": [
      "CPU times: user 51.9 ms, sys: 26.9 ms, total: 78.8 ms\n",
      "Wall time: 104 ms\n"
     ]
    }
   ],
   "source": [
    "%%time\n",
    "strongs = []\n",
    "indices = range(len(weaks))\n",
    "for w in indices:\n",
    "    s = weaks[w]\n",
    "    for e in indices:\n",
    "        if e == w: continue\n",
    "        s = boolsim.difference(s, weaks[e])\n",
    "    strongs.append(s)"
   ]
  },
  {
   "cell_type": "markdown",
   "metadata": {},
   "source": [
    "## Boundaries\n",
    "\n",
    "The boundary of a basin is the set of transition from an external state to an internal one (by definition, there is no transition from internal state to external ones). Here we identify the set of external and internal states of these transitions.\n",
    "\n",
    "The external boundary is the set of states outside of the basin which can reach the basin in a single step. We identify them by computing the set of states reachable in one reverse step from the basin, excluding states of the basin.\n",
    "\n",
    "The internal boundary is the set of states of the basin reachable in one step from the external boundary."
   ]
  },
  {
   "cell_type": "code",
   "execution_count": 6,
   "metadata": {},
   "outputs": [
    {
     "name": "stdout",
     "output_type": "stream",
     "text": [
      "CPU times: user 199 ms, sys: 45.8 ms, total: 245 ms\n",
      "Wall time: 517 ms\n"
     ]
    }
   ],
   "source": [
    "%%time\n",
    "\n",
    "externals = []\n",
    "internals = []\n",
    "for s in strongs:\n",
    "    tmp = boolsim.reachable(reverse, s, max_iterations=1)\n",
    "    ext = boolsim.difference(tmp, s)\n",
    "\n",
    "    tmp = boolsim.reachable(model, ext, max_iterations=1)\n",
    "    internal = boolsim.intersection(tmp, s)\n",
    "\n",
    "    externals.append( ext )\n",
    "    internals.append( internal )"
   ]
  },
  {
   "cell_type": "markdown",
   "metadata": {},
   "source": [
    "## Simplify sets of states with espresso\n",
    "\n",
    "BoolSim manipulates sets of states as ordered decision diagrams, which can be listed as a collection of patterns. However, these lists of patterns may not provide the most compact representation of the set of states. To simplify these lists, we can use an heuristic method implemented in the classical [espresso](https://en.wikipedia.org/wiki/Espresso_heuristic_logic_minimizer) tool."
   ]
  },
  {
   "cell_type": "code",
   "execution_count": 7,
   "metadata": {},
   "outputs": [
    {
     "data": {
      "text/html": [
       "<div>\n",
       "<style scoped>\n",
       "    .dataframe tbody tr th:only-of-type {\n",
       "        vertical-align: middle;\n",
       "    }\n",
       "\n",
       "    .dataframe tbody tr th {\n",
       "        vertical-align: top;\n",
       "    }\n",
       "\n",
       "    .dataframe thead th {\n",
       "        text-align: right;\n",
       "    }\n",
       "</style>\n",
       "<table border=\"1\" class=\"dataframe\">\n",
       "  <thead>\n",
       "    <tr style=\"text-align: right;\">\n",
       "      <th></th>\n",
       "      <th>apoptosome</th>\n",
       "      <th>ATP</th>\n",
       "      <th>BAX</th>\n",
       "      <th>BCL2</th>\n",
       "      <th>CASP3</th>\n",
       "      <th>CASP8</th>\n",
       "      <th>cFLIP</th>\n",
       "      <th>cIAP</th>\n",
       "      <th>Cyt_c</th>\n",
       "      <th>IKK</th>\n",
       "      <th>MOMP</th>\n",
       "      <th>MPT</th>\n",
       "      <th>NFkB</th>\n",
       "      <th>RIP1</th>\n",
       "      <th>RIP1K</th>\n",
       "      <th>RIP1ub</th>\n",
       "      <th>ROS</th>\n",
       "      <th>SMAC</th>\n",
       "      <th>XIAP</th>\n",
       "    </tr>\n",
       "  </thead>\n",
       "  <tbody>\n",
       "    <tr>\n",
       "      <th>0</th>\n",
       "      <td>*</td>\n",
       "      <td>*</td>\n",
       "      <td>*</td>\n",
       "      <td>0</td>\n",
       "      <td>*</td>\n",
       "      <td>0</td>\n",
       "      <td>*</td>\n",
       "      <td>0</td>\n",
       "      <td>*</td>\n",
       "      <td>0</td>\n",
       "      <td>*</td>\n",
       "      <td>1</td>\n",
       "      <td>0</td>\n",
       "      <td>*</td>\n",
       "      <td>*</td>\n",
       "      <td>0</td>\n",
       "      <td>1</td>\n",
       "      <td>*</td>\n",
       "      <td>*</td>\n",
       "    </tr>\n",
       "    <tr>\n",
       "      <th>1</th>\n",
       "      <td>*</td>\n",
       "      <td>*</td>\n",
       "      <td>*</td>\n",
       "      <td>0</td>\n",
       "      <td>*</td>\n",
       "      <td>1</td>\n",
       "      <td>0</td>\n",
       "      <td>0</td>\n",
       "      <td>*</td>\n",
       "      <td>0</td>\n",
       "      <td>*</td>\n",
       "      <td>1</td>\n",
       "      <td>0</td>\n",
       "      <td>*</td>\n",
       "      <td>*</td>\n",
       "      <td>0</td>\n",
       "      <td>1</td>\n",
       "      <td>*</td>\n",
       "      <td>*</td>\n",
       "    </tr>\n",
       "    <tr>\n",
       "      <th>2</th>\n",
       "      <td>*</td>\n",
       "      <td>*</td>\n",
       "      <td>*</td>\n",
       "      <td>0</td>\n",
       "      <td>*</td>\n",
       "      <td>1</td>\n",
       "      <td>0</td>\n",
       "      <td>1</td>\n",
       "      <td>*</td>\n",
       "      <td>0</td>\n",
       "      <td>*</td>\n",
       "      <td>1</td>\n",
       "      <td>0</td>\n",
       "      <td>0</td>\n",
       "      <td>*</td>\n",
       "      <td>0</td>\n",
       "      <td>1</td>\n",
       "      <td>*</td>\n",
       "      <td>*</td>\n",
       "    </tr>\n",
       "    <tr>\n",
       "      <th>3</th>\n",
       "      <td>*</td>\n",
       "      <td>*</td>\n",
       "      <td>*</td>\n",
       "      <td>0</td>\n",
       "      <td>*</td>\n",
       "      <td>1</td>\n",
       "      <td>1</td>\n",
       "      <td>0</td>\n",
       "      <td>*</td>\n",
       "      <td>0</td>\n",
       "      <td>*</td>\n",
       "      <td>1</td>\n",
       "      <td>0</td>\n",
       "      <td>*</td>\n",
       "      <td>*</td>\n",
       "      <td>0</td>\n",
       "      <td>1</td>\n",
       "      <td>*</td>\n",
       "      <td>*</td>\n",
       "    </tr>\n",
       "  </tbody>\n",
       "</table>\n",
       "</div>"
      ],
      "text/plain": [
       "  apoptosome ATP BAX  BCL2 CASP3  CASP8 cFLIP  cIAP Cyt_c  IKK MOMP  MPT  \\\n",
       "0          *   *   *     0     *      0     *     0     *    0    *    1   \n",
       "1          *   *   *     0     *      1     0     0     *    0    *    1   \n",
       "2          *   *   *     0     *      1     0     1     *    0    *    1   \n",
       "3          *   *   *     0     *      1     1     0     *    0    *    1   \n",
       "\n",
       "   NFkB RIP1 RIP1K  RIP1ub  ROS SMAC XIAP  \n",
       "0     0    *     *       0    1    *    *  \n",
       "1     0    *     *       0    1    *    *  \n",
       "2     0    0     *       0    1    *    *  \n",
       "3     0    *     *       0    1    *    *  "
      ]
     },
     "execution_count": 7,
     "metadata": {},
     "output_type": "execute_result"
    }
   ],
   "source": [
    "tabulate(strongs[1])"
   ]
  },
  {
   "cell_type": "code",
   "execution_count": 8,
   "metadata": {},
   "outputs": [
    {
     "data": {
      "text/html": [
       "<div>\n",
       "<style scoped>\n",
       "    .dataframe tbody tr th:only-of-type {\n",
       "        vertical-align: middle;\n",
       "    }\n",
       "\n",
       "    .dataframe tbody tr th {\n",
       "        vertical-align: top;\n",
       "    }\n",
       "\n",
       "    .dataframe thead th {\n",
       "        text-align: right;\n",
       "    }\n",
       "</style>\n",
       "<table border=\"1\" class=\"dataframe\">\n",
       "  <thead>\n",
       "    <tr style=\"text-align: right;\">\n",
       "      <th></th>\n",
       "      <th>apoptosome</th>\n",
       "      <th>ATP</th>\n",
       "      <th>BAX</th>\n",
       "      <th>BCL2</th>\n",
       "      <th>CASP3</th>\n",
       "      <th>CASP8</th>\n",
       "      <th>cFLIP</th>\n",
       "      <th>cIAP</th>\n",
       "      <th>Cyt_c</th>\n",
       "      <th>IKK</th>\n",
       "      <th>MOMP</th>\n",
       "      <th>MPT</th>\n",
       "      <th>NFkB</th>\n",
       "      <th>RIP1</th>\n",
       "      <th>RIP1K</th>\n",
       "      <th>RIP1ub</th>\n",
       "      <th>ROS</th>\n",
       "      <th>SMAC</th>\n",
       "      <th>XIAP</th>\n",
       "    </tr>\n",
       "  </thead>\n",
       "  <tbody>\n",
       "    <tr>\n",
       "      <th>1</th>\n",
       "      <td>*</td>\n",
       "      <td>*</td>\n",
       "      <td>*</td>\n",
       "      <td>0</td>\n",
       "      <td>*</td>\n",
       "      <td>*</td>\n",
       "      <td>*</td>\n",
       "      <td>0</td>\n",
       "      <td>*</td>\n",
       "      <td>0</td>\n",
       "      <td>*</td>\n",
       "      <td>1</td>\n",
       "      <td>0</td>\n",
       "      <td>*</td>\n",
       "      <td>*</td>\n",
       "      <td>0</td>\n",
       "      <td>1</td>\n",
       "      <td>*</td>\n",
       "      <td>*</td>\n",
       "    </tr>\n",
       "    <tr>\n",
       "      <th>0</th>\n",
       "      <td>*</td>\n",
       "      <td>*</td>\n",
       "      <td>*</td>\n",
       "      <td>0</td>\n",
       "      <td>*</td>\n",
       "      <td>1</td>\n",
       "      <td>0</td>\n",
       "      <td>*</td>\n",
       "      <td>*</td>\n",
       "      <td>0</td>\n",
       "      <td>*</td>\n",
       "      <td>1</td>\n",
       "      <td>0</td>\n",
       "      <td>0</td>\n",
       "      <td>*</td>\n",
       "      <td>0</td>\n",
       "      <td>1</td>\n",
       "      <td>*</td>\n",
       "      <td>*</td>\n",
       "    </tr>\n",
       "  </tbody>\n",
       "</table>\n",
       "</div>"
      ],
      "text/plain": [
       "  apoptosome ATP BAX BCL2 CASP3 CASP8 cFLIP cIAP Cyt_c IKK MOMP MPT NFkB RIP1  \\\n",
       "1          *   *   *    0     *     *     *    0     *   0    *   1    0    *   \n",
       "0          *   *   *    0     *     1     0    *     *   0    *   1    0    0   \n",
       "\n",
       "  RIP1K RIP1ub ROS SMAC XIAP  \n",
       "1     *      0   1    *    *  \n",
       "0     *      0   1    *    *  "
      ]
     },
     "execution_count": 8,
     "metadata": {},
     "output_type": "execute_result"
    }
   ],
   "source": [
    "tabulate(strongs[1].simplify())"
   ]
  },
  {
   "cell_type": "markdown",
   "metadata": {},
   "source": [
    "# Some statistics"
   ]
  },
  {
   "cell_type": "markdown",
   "metadata": {},
   "source": [
    "Show the size of all basins and their boundaries"
   ]
  },
  {
   "cell_type": "code",
   "execution_count": 9,
   "metadata": {},
   "outputs": [
    {
     "name": "stdout",
     "output_type": "stream",
     "text": [
      "attractor: 1\n",
      "weak: 519620\n",
      "strong: 1036\n",
      "int: 1036\n",
      "ext: 9324\n",
      "\n",
      "attractor: 1\n",
      "weak: 523192\n",
      "strong: 4608\n",
      "int: 4608\n",
      "ext: 30208\n",
      "\n",
      "attractor: 1\n",
      "weak: 487412\n",
      "strong: 60\n",
      "int: 60\n",
      "ext: 776\n",
      "\n"
     ]
    }
   ],
   "source": [
    "for attractor, weak,strong, external, internal in zip(attractors, weaks,strongs, externals, internals):\n",
    "    print(f\"attractor: {attractor.count()}\")\n",
    "    print(f\"weak: {weak.count()}\")\n",
    "    print(f\"strong: {strong.count()}\")\n",
    "    print(f\"int: {internal.count()}\")\n",
    "    print(f\"ext: {external.count()}\")\n",
    "    print()"
   ]
  }
 ],
 "metadata": {
  "kernelspec": {
   "display_name": "Python 3",
   "language": "python",
   "name": "python3"
  },
  "language_info": {
   "codemirror_mode": {
    "name": "ipython",
    "version": 3
   },
   "file_extension": ".py",
   "mimetype": "text/x-python",
   "name": "python",
   "nbconvert_exporter": "python",
   "pygments_lexer": "ipython3",
   "version": "3.7.9"
  }
 },
 "nbformat": 4,
 "nbformat_minor": 4
}
