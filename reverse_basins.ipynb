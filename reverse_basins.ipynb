{
 "cells": [
  {
   "cell_type": "markdown",
   "metadata": {},
   "source": [
    "#  Study basins of attraction using reversed models\n",
    "\n",
    "\n",
    "In this notebook we combine [bioLQM](http://colomoto.org/biolqm) and [BoolSim](https://www.vital-it.ch/research/software/boolSim) to study the basins of attraction of qualitative models."
   ]
  },
  {
   "cell_type": "code",
   "execution_count": 1,
   "metadata": {},
   "outputs": [],
   "source": [
    "import boolsim\n",
    "import biolqm"
   ]
  },
  {
   "cell_type": "markdown",
   "metadata": {},
   "source": [
    "Note: the boolsim.py file provides a simple Python API for a subset of BoolSim command-line features.\n",
    "We plan to further extend this API and to integrate it directly in the CoLoMoTo Docker image."
   ]
  },
  {
   "cell_type": "markdown",
   "metadata": {},
   "source": [
    "## Load and reverse the model\n",
    "\n",
    "Load the model, compute the reversed version and export both to boolsim"
   ]
  },
  {
   "cell_type": "code",
   "execution_count": 2,
   "metadata": {},
   "outputs": [],
   "source": [
    "model_name = \"calzone2010/Calzone_2010_reduced\"\n",
    "\n",
    "model = biolqm.load(f\"{model_name}.sbml\")\n",
    "reverse = biolqm.reverse(model)\n",
    "boolsim_model = boolsim.BoolSimModel(biolqm.biolqm.save(model, f\"{model_name}.boolsim\"))\n",
    "boolsim_model_rev = boolsim.BoolSimModel(biolqm.biolqm.save(reverse, f\"{model_name}_reversed.boolsim\"))"
   ]
  },
  {
   "cell_type": "markdown",
   "metadata": {},
   "source": [
    "## Identify all attractors"
   ]
  },
  {
   "cell_type": "code",
   "execution_count": 3,
   "metadata": {},
   "outputs": [
    {
     "name": "stdout",
     "output_type": "stream",
     "text": [
      "apoptosome ATP BAX BCL- CASP3 CASP8 cFLIP cIAP Cyt_c IKK MOMP MPT NFkB RIP1 RIP1K RIP1ub ROS SMAC XIAP\n",
      "0 1 0 1 0 0 1 1 0 1 0 0 1 1 1 1 0 0 1\n",
      "\n",
      "apoptosome ATP BAX BCL- CASP3 CASP8 cFLIP cIAP Cyt_c IKK MOMP MPT NFkB RIP1 RIP1K RIP1ub ROS SMAC XIAP\n",
      "0 0 1 0 0 1 0 0 1 0 1 1 0 0 0 0 1 1 0\n",
      "\n",
      "apoptosome ATP BAX BCL- CASP3 CASP8 cFLIP cIAP Cyt_c IKK MOMP MPT NFkB RIP1 RIP1K RIP1ub ROS SMAC XIAP\n",
      "1 1 1 0 1 1 0 0 1 0 1 0 0 0 0 0 0 1 0\n",
      "\n",
      "CPU times: user 2.54 ms, sys: 5.98 ms, total: 8.51 ms\n",
      "Wall time: 235 ms\n"
     ]
    }
   ],
   "source": [
    "%%time\n",
    "\n",
    "attractors = boolsim_model.attractors()\n",
    "\n",
    "for a in attractors:\n",
    "    a.show()"
   ]
  },
  {
   "cell_type": "markdown",
   "metadata": {},
   "source": [
    "## Basins of attractions\n",
    "\n",
    "Find the weak and strong basins of attraction for each identified attractor.\n",
    "* Weak basins: all states which can lead to this attractor\n",
    "* Strong basins: the subset of the weak basin which can not reach any other attractor"
   ]
  },
  {
   "cell_type": "code",
   "execution_count": 4,
   "metadata": {},
   "outputs": [
    {
     "name": "stdout",
     "output_type": "stream",
     "text": [
      "CPU times: user 3.48 ms, sys: 7.55 ms, total: 11 ms\n",
      "Wall time: 511 ms\n"
     ]
    }
   ],
   "source": [
    "%%time\n",
    "weaks = [ boolsim_model_rev.reachable(a, suffix=\"weak\") for a in attractors  ]"
   ]
  },
  {
   "cell_type": "code",
   "execution_count": 5,
   "metadata": {},
   "outputs": [
    {
     "name": "stdout",
     "output_type": "stream",
     "text": [
      "CPU times: user 1.3 ms, sys: 11.7 ms, total: 13 ms\n",
      "Wall time: 54.2 ms\n"
     ]
    }
   ],
   "source": [
    "%%time\n",
    "strongs = []\n",
    "for w in weaks:\n",
    "    excluded = [ e for e in weaks if e != w ]\n",
    "    output = w.statefile.replace(\"weak\",\"strong\")\n",
    "    strongs.append( w.exclude(output, excluded) )"
   ]
  },
  {
   "cell_type": "markdown",
   "metadata": {},
   "source": [
    "## Boundaries\n",
    "\n",
    "The boundary of a basin is the set of transition from an external state to an internal one (by definition, there is no transition from internal state to external ones). Here we identify the set of external and internal states of these transitions.\n",
    "\n",
    "The external boundary is the set of states outside of the basin which can reach the basin in a single step. We identify them by computing the set of states reachable in one reverse step from the basin, excluding states of the basin.\n",
    "\n",
    "The internal boundary is the set of states of the basin reachable in one step from the external boundary."
   ]
  },
  {
   "cell_type": "code",
   "execution_count": 6,
   "metadata": {},
   "outputs": [
    {
     "name": "stdout",
     "output_type": "stream",
     "text": [
      "CPU times: user 6.59 ms, sys: 26.4 ms, total: 33 ms\n",
      "Wall time: 613 ms\n"
     ]
    }
   ],
   "source": [
    "%%time\n",
    "\n",
    "externals = []\n",
    "internals = []\n",
    "for s in strongs:\n",
    "    output = s.statefile.replace(\"strong\",\"externalboundary\")\n",
    "    tmp = boolsim_model_rev.reachable(s, max_steps=1)\n",
    "    ext = tmp.exclude(output, [s,] )\n",
    "    \n",
    "    output = s.statefile.replace(\"strong\",\"internalboundary\")\n",
    "    tmp = boolsim_model.reachable(ext, max_steps=1)\n",
    "    internal = tmp.intersect( output, s )\n",
    "    \n",
    "    externals.append( ext )\n",
    "    internals.append( internal )"
   ]
  },
  {
   "cell_type": "markdown",
   "metadata": {},
   "source": [
    "## Simplify sets of states with espresso\n",
    "\n",
    "BoolSim manipulates sets of states as ordered decision diagrams, which can be listed as a collection of patterns. However, these lists of patterns may not provide the most compact representation of the set of states. To simplify these lists, we can use an heuristic method implemented in the classical [espresso](https://en.wikipedia.org/wiki/Espresso_heuristic_logic_minimizer) tool."
   ]
  },
  {
   "cell_type": "code",
   "execution_count": 7,
   "metadata": {},
   "outputs": [
    {
     "name": "stdout",
     "output_type": "stream",
     "text": [
      "apoptosome ATP BAX BCL- CASP3 CASP8 cFLIP cIAP Cyt_c IKK MOMP MPT NFkB RIP1 RIP1K RIP1ub ROS SMAC XIAP\n",
      "- - - 0 - 0 - 0 - 0 - 1 0 - - 0 1 - -\n",
      "- - - 0 - 1 0 0 - 0 - 1 0 - - 0 1 - -\n",
      "- - - 0 - 1 0 1 - 0 - 1 0 0 - 0 1 - -\n",
      "- - - 0 - 1 1 0 - 0 - 1 0 - - 0 1 - -\n",
      "\n",
      "apoptosome ATP BAX BCL- CASP3 CASP8 cFLIP cIAP Cyt_c IKK MOMP MPT NFkB RIP1 RIP1K RIP1ub ROS SMAC XIAP\n",
      "- - - 0 - 1 0 - - 0 - 1 0 0 - 0 1 - -\n",
      "- - - 0 - - - 0 - 0 - 1 0 - - 0 1 - -\n",
      "\n"
     ]
    }
   ],
   "source": [
    "strongs[1].show()\n",
    "strongs[1].simplify().show()"
   ]
  },
  {
   "cell_type": "markdown",
   "metadata": {},
   "source": [
    "# Some statistics"
   ]
  },
  {
   "cell_type": "markdown",
   "metadata": {},
   "source": [
    "Show the size of all basins and their boundaries"
   ]
  },
  {
   "cell_type": "code",
   "execution_count": 8,
   "metadata": {},
   "outputs": [
    {
     "name": "stdout",
     "output_type": "stream",
     "text": [
      "attractor: 1\n",
      "strong: 60\n",
      "int: 60\n",
      "ext: 776\n",
      "\n",
      "attractor: 1\n",
      "strong: 4608\n",
      "int: 4608\n",
      "ext: 30208\n",
      "\n",
      "attractor: 1\n",
      "strong: 1036\n",
      "int: 1036\n",
      "ext: 9324\n",
      "\n"
     ]
    }
   ],
   "source": [
    "for attractor, weak,strong, external, internal in zip(attractors, weaks,strongs, externals, internals):\n",
    "    print(f\"attractor: {attractor.count()}\")\n",
    "    print(f\"strong: {strong.count()}\")\n",
    "    print(f\"int: {internal.count()}\")\n",
    "    print(f\"ext: {external.count()}\")\n",
    "    print()"
   ]
  }
 ],
 "metadata": {
  "kernelspec": {
   "display_name": "Python 3",
   "language": "python",
   "name": "python3"
  },
  "language_info": {
   "codemirror_mode": {
    "name": "ipython",
    "version": 3
   },
   "file_extension": ".py",
   "mimetype": "text/x-python",
   "name": "python",
   "nbconvert_exporter": "python",
   "pygments_lexer": "ipython3",
   "version": "3.7.6"
  }
 },
 "nbformat": 4,
 "nbformat_minor": 4
}
